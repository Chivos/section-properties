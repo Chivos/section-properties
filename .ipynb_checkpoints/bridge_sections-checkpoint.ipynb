{
 "cells": [
  {
   "cell_type": "code",
   "execution_count": 1,
   "id": "1d13607b-3d09-4207-aebe-86b8c31fede8",
   "metadata": {},
   "outputs": [],
   "source": [
    "%load_ext autoreload\n",
    "%autoreload 2"
   ]
  },
  {
   "cell_type": "code",
   "execution_count": 21,
   "id": "b0191929-3433-4b25-84dd-47280c4ce3f1",
   "metadata": {},
   "outputs": [
    {
     "ename": "TypeError",
     "evalue": "'Geometry' object is not subscriptable",
     "output_type": "error",
     "traceback": [
      "\u001b[1;31m---------------------------------------------------------------------------\u001b[0m",
      "\u001b[1;31mTypeError\u001b[0m                                 Traceback (most recent call last)",
      "\u001b[1;32m~\\AppData\\Local\\Temp/ipykernel_14388/3499978206.py\u001b[0m in \u001b[0;36m<module>\u001b[1;34m\u001b[0m\n\u001b[0;32m     27\u001b[0m \u001b[1;33m\u001b[0m\u001b[0m\n\u001b[0;32m     28\u001b[0m \u001b[0msuper_t\u001b[0m \u001b[1;33m=\u001b[0m \u001b[0mbridge_sections\u001b[0m\u001b[1;33m.\u001b[0m\u001b[0msuper_t_girder_section\u001b[0m\u001b[1;33m(\u001b[0m\u001b[0mgirder_type\u001b[0m\u001b[1;33m=\u001b[0m\u001b[1;36m5\u001b[0m\u001b[1;33m,\u001b[0m \u001b[0mw\u001b[0m\u001b[1;33m=\u001b[0m\u001b[0mw\u001b[0m\u001b[1;33m,\u001b[0m \u001b[0mmaterial\u001b[0m\u001b[1;33m=\u001b[0m\u001b[0mprecast\u001b[0m\u001b[1;33m)\u001b[0m\u001b[1;33m\u001b[0m\u001b[1;33m\u001b[0m\u001b[0m\n\u001b[1;32m---> 29\u001b[1;33m \u001b[0mslab\u001b[0m \u001b[1;33m=\u001b[0m \u001b[0mstandard_sections\u001b[0m\u001b[1;33m.\u001b[0m\u001b[0mrectangular_section\u001b[0m\u001b[1;33m(\u001b[0m\u001b[0md\u001b[0m\u001b[1;33m=\u001b[0m\u001b[0mDslab\u001b[0m\u001b[1;33m,\u001b[0m \u001b[0mb\u001b[0m\u001b[1;33m=\u001b[0m\u001b[0mw\u001b[0m\u001b[1;33m,\u001b[0m \u001b[0mmaterial\u001b[0m\u001b[1;33m=\u001b[0m\u001b[0minsitu\u001b[0m\u001b[1;33m)\u001b[0m\u001b[1;33m.\u001b[0m\u001b[0malign_center\u001b[0m\u001b[1;33m(\u001b[0m\u001b[0msuper_t\u001b[0m\u001b[1;33m)\u001b[0m\u001b[1;33m.\u001b[0m\u001b[0malign_to\u001b[0m\u001b[1;33m(\u001b[0m\u001b[0msuper_t\u001b[0m\u001b[1;33m,\u001b[0m \u001b[1;34m\"top\"\u001b[0m\u001b[1;33m)\u001b[0m\u001b[1;33m\u001b[0m\u001b[1;33m\u001b[0m\u001b[0m\n\u001b[0m\u001b[0;32m     30\u001b[0m \u001b[1;33m\u001b[0m\u001b[0m\n\u001b[0;32m     31\u001b[0m \u001b[0mgeom\u001b[0m \u001b[1;33m=\u001b[0m \u001b[0msuper_t\u001b[0m \u001b[1;33m+\u001b[0m \u001b[0mslab\u001b[0m\u001b[1;33m\u001b[0m\u001b[1;33m\u001b[0m\u001b[0m\n",
      "\u001b[1;32m~\\Notebooks\\package_development\\section-properties\\sectionproperties\\pre\\geometry.py\u001b[0m in \u001b[0;36malign_to\u001b[1;34m(self, other, on, inner)\u001b[0m\n\u001b[0;32m    442\u001b[0m         \u001b[1;32melse\u001b[0m\u001b[1;33m:\u001b[0m\u001b[1;33m\u001b[0m\u001b[1;33m\u001b[0m\u001b[0m\n\u001b[0;32m    443\u001b[0m             \u001b[0mother_extents\u001b[0m \u001b[1;33m=\u001b[0m \u001b[0mother\u001b[0m\u001b[1;33m\u001b[0m\u001b[1;33m\u001b[0m\u001b[0m\n\u001b[1;32m--> 444\u001b[1;33m         \u001b[0malign_to_coord\u001b[0m \u001b[1;33m=\u001b[0m \u001b[0mother_extents\u001b[0m\u001b[1;33m[\u001b[0m\u001b[0malign_to_idx\u001b[0m\u001b[1;33m]\u001b[0m\u001b[1;33m\u001b[0m\u001b[1;33m\u001b[0m\u001b[0m\n\u001b[0m\u001b[0;32m    445\u001b[0m \u001b[1;33m\u001b[0m\u001b[0m\n\u001b[0;32m    446\u001b[0m         \u001b[0moffset\u001b[0m \u001b[1;33m=\u001b[0m \u001b[0malign_to_coord\u001b[0m \u001b[1;33m-\u001b[0m \u001b[0mself_align_coord\u001b[0m\u001b[1;33m\u001b[0m\u001b[1;33m\u001b[0m\u001b[0m\n",
      "\u001b[1;31mTypeError\u001b[0m: 'Geometry' object is not subscriptable"
     ]
    }
   ],
   "source": [
    "import sectionproperties.pre.library.bridge_sections as bridge_sections\n",
    "import sectionproperties.pre.library.primitive_sections as standard_sections\n",
    "from sectionproperties.pre.pre import Material\n",
    "from sectionproperties.analysis.section import Section\n",
    "from sectionproperties.pre.geometry import CompoundGeometry\n",
    "# from shapely.wkt import loads, dumps\n",
    "from shapely.geometry import Polygon, MultiPolygon\n",
    "\n",
    "Dslab, w, t_f = 180, 2100, 75\n",
    "\n",
    "precast = Material(\n",
    "    name=\"65 MPa\",\n",
    "    elastic_modulus=37.4e3,\n",
    "    poissons_ratio=0.2,\n",
    "    yield_strength=65,\n",
    "    density=2.4e-6,\n",
    "    color=\"grey\",\n",
    ")\n",
    "insitu = Material(\n",
    "    name=\"40 MPa\",\n",
    "    elastic_modulus=32.8e3,\n",
    "    poissons_ratio=0.2,\n",
    "    yield_strength=40,\n",
    "    density=2.4e-6,\n",
    "    color=\"lightgrey\",\n",
    ")\n",
    "\n",
    "super_t = bridge_sections.super_t_girder_section(girder_type=5, w=w, material=precast)\n",
    "slab = standard_sections.rectangular_section(d=Dslab, b=w, material=insitu).align_center(super_t).align_to(super_t, \"top\")\n",
    "\n",
    "geom = super_t + slab\n",
    "geom.plot_geometry(labels=['points', 'facets'])\n",
    "geom\n",
    "# need to add a hole?\n",
    "# geom.holes.append([0, -Dslab])\n",
    "\n",
    "\n",
    "# geom.create_mesh(mesh_sizes=[500])\n",
    "\n",
    "# sec = Section(geom)\n",
    "# sec.plot_mesh()\n",
    "\n",
    "# sec.calculate_geometric_properties()\n",
    "# sec.calculate_warping_properties()\n",
    "# sec.display_results(fmt=\".3f\")"
   ]
  },
  {
   "cell_type": "code",
   "execution_count": 4,
   "id": "b01012ae-fea8-4cc7-b33c-52d01910ab42",
   "metadata": {},
   "outputs": [
    {
     "data": {
      "text/plain": [
       "'POLYGON ((398.7715041472865 50, 423.7715041472865 50, 423.7715041472865 75, 1050 75, 1050 13, 1037 0, 613.5 0, 506.42670409480445 -75, 344.2440591535388 -1712, 330.0125320599427 -1725, -330.0125320599427 -1725, -344.2440591535388 -1712, -506.42670409480445 -75, -613.5 0, -1037 0, -1050 13, -1050 75, -423.7715041472865 75, -423.7715041472865 50, -398.7715041472865 50, -266.12378458128774 -1350.2293277386782, 0 -1400, 266.12378458128774 -1350.2293277386782, 398.7715041472865 50))'"
      ]
     },
     "execution_count": 4,
     "metadata": {},
     "output_type": "execute_result"
    }
   ],
   "source": [
    "super_t.geom.wkt"
   ]
  },
  {
   "cell_type": "code",
   "execution_count": 5,
   "id": "ff3c8350-2a93-4eaf-ad07-5bfdfeefbd05",
   "metadata": {},
   "outputs": [
    {
     "data": {
      "text/plain": [
       "'POLYGON ((-1050 75.00000000000011, 1050 75.00000000000011, 1050 255.0000000000001, -1050 255.0000000000001, -1050 75.00000000000011))'"
      ]
     },
     "execution_count": 5,
     "metadata": {},
     "output_type": "execute_result"
    }
   ],
   "source": [
    "slab.geom.wkt"
   ]
  },
  {
   "cell_type": "code",
   "execution_count": 10,
   "id": "1e77f59d-1059-48c7-8dad-737c5a62f318",
   "metadata": {},
   "outputs": [
    {
     "name": "stdout",
     "output_type": "stream",
     "text": [
      "0 [0, 1]\n",
      "1 [1, 2]\n",
      "2 [2, 3]\n",
      "3 [3, 4]\n",
      "4 [4, 5]\n",
      "5 [5, 6]\n",
      "6 [6, 7]\n",
      "7 [7, 8]\n",
      "8 [8, 9]\n",
      "9 [9, 10]\n",
      "10 [10, 11]\n",
      "11 [11, 12]\n",
      "12 [12, 13]\n",
      "13 [13, 14]\n",
      "14 [14, 15]\n",
      "15 [15, 16]\n",
      "16 [16, 17]\n",
      "17 [17, 18]\n",
      "18 [18, 19]\n",
      "19 [19, 20]\n",
      "20 [20, 21]\n",
      "21 [21, 22]\n",
      "22 [22, 0]\n",
      "23 [16, 3]\n",
      "24 [3, 23]\n",
      "25 [23, 24]\n",
      "26 [24, 16]\n"
     ]
    }
   ],
   "source": [
    "for idx, facet in enumerate(geom.facets):\n",
    "    print(idx, facet)"
   ]
  },
  {
   "cell_type": "code",
   "execution_count": 11,
   "id": "6eebbb82-8556-44a1-8a10-947454b0a6cb",
   "metadata": {},
   "outputs": [
    {
     "data": {
      "text/plain": [
       "[[398.771504147287, 50.0],\n",
       " [423.771504147287, 50.0],\n",
       " [423.771504147287, 75.0],\n",
       " [1050.0, 75.0],\n",
       " [1050.0, 13.0],\n",
       " [1037.0, 0.0],\n",
       " [613.5, 0.0],\n",
       " [506.426704094804, -75.0],\n",
       " [344.244059153539, -1712.0],\n",
       " [330.012532059943, -1725.0],\n",
       " [-330.012532059943, -1725.0],\n",
       " [-344.244059153539, -1712.0],\n",
       " [-506.426704094804, -75.0],\n",
       " [-613.5, 0.0],\n",
       " [-1037.0, 0.0],\n",
       " [-1050.0, 13.0],\n",
       " [-1050.0, 75.0],\n",
       " [-423.771504147287, 75.0],\n",
       " [-423.771504147287, 50.0],\n",
       " [-398.771504147287, 50.0],\n",
       " [-266.123784581288, -1350.229327738678],\n",
       " [0.0, -1400.0],\n",
       " [266.123784581288, -1350.229327738678],\n",
       " [1050.0, 255.0],\n",
       " [-1050.0, 255.0]]"
      ]
     },
     "execution_count": 11,
     "metadata": {},
     "output_type": "execute_result"
    }
   ],
   "source": [
    "geom.points"
   ]
  },
  {
   "cell_type": "code",
   "execution_count": 12,
   "id": "e1eb42a6-55b0-42db-81aa-217720f1e83f",
   "metadata": {},
   "outputs": [
    {
     "name": "stdout",
     "output_type": "stream",
     "text": [
      "sectionproperties.pre.geometry.CompoundGeometry\n",
      "object at: 0x2bd3304dee0\n",
      "Materials incl.: ['40 MPa']\n"
     ]
    },
    {
     "data": {
      "image/svg+xml": [
       "<svg xmlns=\"http://www.w3.org/2000/svg\" xmlns:xlink=\"http://www.w3.org/1999/xlink\" width=\"300\" height=\"300\" viewBox=\"-1134.0 -1809.0 2268.0 2148.0\" preserveAspectRatio=\"xMinYMin meet\"><g transform=\"matrix(1,0,0,-1,0,-1470.0)\"><g><path fill-rule=\"evenodd\" fill=\"#66cc99\" stroke=\"#555555\" stroke-width=\"15.12\" opacity=\"0.6\" d=\"M -1050.0,75.00000000000011 L 1050.0,75.00000000000011 L 1050.0,255.0000000000001 L -1050.0,255.0000000000001 L -1050.0,75.00000000000011 z\" /><path fill-rule=\"evenodd\" fill=\"#66cc99\" stroke=\"#555555\" stroke-width=\"15.12\" opacity=\"0.6\" d=\"M 398.7715041472865,50.0 L 423.7715041472865,50.0 L 423.7715041472865,75.0 L 1050.0,75.0 L 1050.0,13.0 L 1037.0,0.0 L 613.5,0.0 L 506.42670409480445,-75.0 L 344.2440591535388,-1712.0 L 330.0125320599427,-1725.0 L -330.0125320599427,-1725.0 L -344.2440591535388,-1712.0 L -506.42670409480445,-75.0 L -613.5,0.0 L -1037.0,0.0 L -1050.0,13.0 L -1050.0,75.0 L -423.7715041472865,75.0 L -423.7715041472865,50.0 L -398.7715041472865,50.0 L -266.12378458128774,-1350.2293277386782 L 0.0,-1400.0 L 266.12378458128774,-1350.2293277386782 L 398.7715041472865,50.0 z\" /></g></g></svg>"
      ],
      "text/plain": [
       "<sectionproperties.pre.geometry.CompoundGeometry at 0x2bd3304dee0>"
      ]
     },
     "execution_count": 12,
     "metadata": {},
     "output_type": "execute_result"
    }
   ],
   "source": [
    "slab | super_t"
   ]
  },
  {
   "cell_type": "code",
   "execution_count": 17,
   "id": "d8efe6d4-a7fb-482d-a3ac-c861fcd17d05",
   "metadata": {},
   "outputs": [
    {
     "data": {
      "text/plain": [
       "'POLYGON ((-1050 75.00000000000011, 1050 75.00000000000011, 1050 255.0000000000001, -1050 255.0000000000001, -1050 75.00000000000011))'"
      ]
     },
     "execution_count": 17,
     "metadata": {},
     "output_type": "execute_result"
    }
   ],
   "source": [
    "slab.geom.wkt"
   ]
  },
  {
   "cell_type": "code",
   "execution_count": 16,
   "id": "94cd9b9f-04ea-48bf-9612-2ad0c8ac7278",
   "metadata": {},
   "outputs": [
    {
     "data": {
      "text/plain": [
       "[(-1050.0, 75.00000000000011),\n",
       " (-1050.0, 255.0000000000001),\n",
       " (1050.0, 255.0000000000001),\n",
       " (1050.0, 75.00000000000011),\n",
       " (-1050.0, 75.00000000000011)]"
      ]
     },
     "execution_count": 16,
     "metadata": {},
     "output_type": "execute_result"
    }
   ],
   "source": [
    "list(slab.geom.normalize().exterior.coords)"
   ]
  },
  {
   "cell_type": "code",
   "execution_count": 15,
   "id": "9d739df9-725e-41ac-a85f-ad742c591b9f",
   "metadata": {},
   "outputs": [
    {
     "data": {
      "text/plain": [
       "[(398.7715041472865, 50.0),\n",
       " (423.7715041472865, 50.0),\n",
       " (423.7715041472865, 75.0),\n",
       " (1050.0, 75.0),\n",
       " (1050.0, 13.0),\n",
       " (1037.0, 0.0),\n",
       " (613.5, 0.0),\n",
       " (506.42670409480445, -75.0),\n",
       " (344.2440591535388, -1712.0),\n",
       " (330.0125320599427, -1725.0),\n",
       " (-330.0125320599427, -1725.0),\n",
       " (-344.2440591535388, -1712.0),\n",
       " (-506.42670409480445, -75.0),\n",
       " (-613.5, 0.0),\n",
       " (-1037.0, 0.0),\n",
       " (-1050.0, 13.0),\n",
       " (-1050.0, 75.0),\n",
       " (-423.7715041472865, 75.0),\n",
       " (-423.7715041472865, 50.0),\n",
       " (-398.7715041472865, 50.0),\n",
       " (-266.12378458128774, -1350.2293277386782),\n",
       " (0.0, -1400.0),\n",
       " (266.12378458128774, -1350.2293277386782),\n",
       " (398.7715041472865, 50.0)]"
      ]
     },
     "execution_count": 15,
     "metadata": {},
     "output_type": "execute_result"
    }
   ],
   "source": [
    "list(super_t.geom.exterior.coords)"
   ]
  },
  {
   "cell_type": "code",
   "execution_count": 18,
   "id": "a08ff296-a59b-45e5-9478-68a2ba675079",
   "metadata": {},
   "outputs": [
    {
     "data": {
      "text/plain": [
       "[[-1050.0, 75.0], [1050.0, 75.0], [1050.0, 255.0], [-1050.0, 255.0]]"
      ]
     },
     "execution_count": 18,
     "metadata": {},
     "output_type": "execute_result"
    }
   ],
   "source": [
    "slab.points"
   ]
  },
  {
   "cell_type": "code",
   "execution_count": null,
   "id": "4a76799d-79fa-4289-9c76-c858acc566ed",
   "metadata": {},
   "outputs": [],
   "source": []
  }
 ],
 "metadata": {
  "kernelspec": {
   "display_name": "sectionproperties",
   "language": "python",
   "name": "sectionproperties"
  },
  "language_info": {
   "codemirror_mode": {
    "name": "ipython",
    "version": 3
   },
   "file_extension": ".py",
   "mimetype": "text/x-python",
   "name": "python",
   "nbconvert_exporter": "python",
   "pygments_lexer": "ipython3",
   "version": "3.8.12"
  }
 },
 "nbformat": 4,
 "nbformat_minor": 5
}
